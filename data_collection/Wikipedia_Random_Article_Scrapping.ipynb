{
 "cells": [
  {
   "cell_type": "code",
   "execution_count": 1,
   "metadata": {},
   "outputs": [],
   "source": [
    "import requests\n",
    "from bs4 import BeautifulSoup\n",
    "from datetime import date\n",
    "import pandas as pd\n",
    "from transformers import pipeline"
   ]
  },
  {
   "cell_type": "code",
   "execution_count": 2,
   "metadata": {},
   "outputs": [
    {
     "name": "stdout",
     "output_type": "stream",
     "text": [
      "Total number of articles to extract : \n",
      "3\n"
     ]
    }
   ],
   "source": [
    "print(\"Total number of articles to extract : \")\n",
    "num = input()\n",
    "num = int(num)\n",
    "num = num+1"
   ]
  },
  {
   "cell_type": "code",
   "execution_count": 3,
   "metadata": {},
   "outputs": [
    {
     "name": "stderr",
     "output_type": "stream",
     "text": [
      "No model was supplied, defaulted to t5-small (https://huggingface.co/t5-small)\n"
     ]
    },
    {
     "data": {
      "application/vnd.jupyter.widget-view+json": {
       "model_id": "f61485f50f924096aade09226a3be0af",
       "version_major": 2,
       "version_minor": 0
      },
      "text/plain": [
       "Downloading:   0%|          | 0.00/1.17k [00:00<?, ?B/s]"
      ]
     },
     "metadata": {},
     "output_type": "display_data"
    },
    {
     "data": {
      "application/vnd.jupyter.widget-view+json": {
       "model_id": "67bc068a878b4fcca35182e15febb5a2",
       "version_major": 2,
       "version_minor": 0
      },
      "text/plain": [
       "Downloading:   0%|          | 0.00/231M [00:00<?, ?B/s]"
      ]
     },
     "metadata": {},
     "output_type": "display_data"
    },
    {
     "name": "stderr",
     "output_type": "stream",
     "text": [
      "All model checkpoint layers were used when initializing TFT5ForConditionalGeneration.\n",
      "\n",
      "All the layers of TFT5ForConditionalGeneration were initialized from the model checkpoint at t5-small.\n",
      "If your task is similar to the task the model of the checkpoint was trained on, you can already use TFT5ForConditionalGeneration for predictions without further training.\n"
     ]
    },
    {
     "data": {
      "application/vnd.jupyter.widget-view+json": {
       "model_id": "e567ac4a5a8d4fee99102330bec188a1",
       "version_major": 2,
       "version_minor": 0
      },
      "text/plain": [
       "Downloading:   0%|          | 0.00/773k [00:00<?, ?B/s]"
      ]
     },
     "metadata": {},
     "output_type": "display_data"
    },
    {
     "data": {
      "application/vnd.jupyter.widget-view+json": {
       "model_id": "3808807698e44f51b56e99b3a09f66f2",
       "version_major": 2,
       "version_minor": 0
      },
      "text/plain": [
       "Downloading:   0%|          | 0.00/1.32M [00:00<?, ?B/s]"
      ]
     },
     "metadata": {},
     "output_type": "display_data"
    }
   ],
   "source": [
    "summarizer = pipeline(\"summarization\")"
   ]
  },
  {
   "cell_type": "code",
   "execution_count": 4,
   "metadata": {},
   "outputs": [
    {
     "name": "stdout",
     "output_type": "stream",
     "text": [
      "\n",
      "\n",
      "James Bannon (born 6 March 1958) is a former Irish Fine Gael politician who served as a Teachta Dála (TD) for the Longford–Westmeath constituency from 2007 to 2016. He was a Senator for the Industrial and Commercial Panel from 2002 to 2007.[1]\n",
      "A native of Legan, County Longford, he worked as a farmer and auctioneer before entering politics.\n",
      "He was first elected to Longford County Council at the 1985 local elections for the Ballymahon local electoral area, and was successively re-elected to the County Council at the 1991 and 1999 local elections, receiving the largest number of first-preference votes in the electoral area on each occasion.[2] He has served as Chairperson of Longford County Council, becoming the youngest person ever to do so.\n",
      "In 2002, he was elected to Seanad Éireann as a Fine Gael candidate for the Industrial and Commercial Panel. He stood down as a member of Longford County Council when legislation was introduced prohibiting serving members of the Oireachtas from being members of local authorities, and was succeeded by his brother, Larry. He was first elected to Dáil Éireann at the 2007 general election for Longford–Westmeath.\n",
      "He served as the party deputy Spokesperson on Environment, with special responsibility for Heritage from 2007 to 2010. In October 2010, he was appointed as deputy spokesperson on Environment with special responsibility for Local and Community Development.\n",
      "In 2012, he asked Bishop Colm O'Reilly to reconsider selecting an Italian organ maker to rebuild the organ in St Mel's Cathedral in Longford.[3]\n",
      "During campaigning ahead of the 2016 general election, Gardaí gave Bannon a lift after he became involved in a dispute while canvassing in the Creevaghbeg estate area in Ballymahon, County Longford. An associate of Bannon was reported to have stolen election leaflets belonging to a rival candidate from local letter boxes.[4]\n",
      "He lost his seat at the 2016 general election.[2] He subsequently failed to gain re-election to Seanad Éireann in April 2016.\n",
      "\n",
      "1  Completed\n"
     ]
    },
    {
     "name": "stderr",
     "output_type": "stream",
     "text": [
      "Your max_length is set to 200, but you input_length is only 68. You might consider decreasing max_length manually, e.g. summarizer('...', max_length=50)\n"
     ]
    },
    {
     "name": "stdout",
     "output_type": "stream",
     "text": [
      "\n",
      "Asota chionea is a moth of the family Erebidae first described by Paul Mabille in 1878. It is found in Zaire.[1]\n",
      "\n",
      "This Aganainae article is a stub. You can help Wikipedia by expanding it.\n",
      "2  Completed\n"
     ]
    },
    {
     "name": "stderr",
     "output_type": "stream",
     "text": [
      "Your max_length is set to 200, but you input_length is only 52. You might consider decreasing max_length manually, e.g. summarizer('...', max_length=50)\n"
     ]
    },
    {
     "name": "stdout",
     "output_type": "stream",
     "text": [
      "Chesley (French pronunciation: ​[ʃɛlɛ]) is a commune in the Aube department in north-central France.\n",
      "\n",
      "\n",
      "This Aube geographical article is a stub. You can help Wikipedia by expanding it.\n",
      "3  Completed\n"
     ]
    }
   ],
   "source": [
    "main_table=pd.DataFrame([],columns=['title','article'])\n",
    "i = 1\n",
    "while i < num:\n",
    "    url = requests.get(\"https://en.wikipedia.org/wiki/Special:Random\")\n",
    "    soup = BeautifulSoup(url.content, 'html5lib')\n",
    "    title = soup.find(class_ =\"firstHeading\").text\n",
    "    url = \"https://en.wikipedia.org/wiki/%s\" % title\n",
    "    text = soup.find('p').getText()\n",
    "    if text is not None:\n",
    "        string=''\n",
    "        for data in soup.find_all('p'):\n",
    "            string=string+data.text\n",
    "        print(string)    \n",
    "        summary=summarizer(string, max_length=200, min_length=30, do_sample=False)[0]['summary_text']    \n",
    "        main_table=main_table.append({'title':title,'article':string,'summary_text':summary},ignore_index=True) \n",
    "        print(i, \" Completed\")\n",
    "    else: \n",
    "        print(i, \"Error Scrapping\")\n",
    "    i = i+1\n"
   ]
  },
  {
   "cell_type": "code",
   "execution_count": 5,
   "metadata": {},
   "outputs": [
    {
     "data": {
      "text/html": [
       "<div>\n",
       "<style scoped>\n",
       "    .dataframe tbody tr th:only-of-type {\n",
       "        vertical-align: middle;\n",
       "    }\n",
       "\n",
       "    .dataframe tbody tr th {\n",
       "        vertical-align: top;\n",
       "    }\n",
       "\n",
       "    .dataframe thead th {\n",
       "        text-align: right;\n",
       "    }\n",
       "</style>\n",
       "<table border=\"1\" class=\"dataframe\">\n",
       "  <thead>\n",
       "    <tr style=\"text-align: right;\">\n",
       "      <th></th>\n",
       "      <th>title</th>\n",
       "      <th>article</th>\n",
       "      <th>summary_text</th>\n",
       "    </tr>\n",
       "  </thead>\n",
       "  <tbody>\n",
       "    <tr>\n",
       "      <th>0</th>\n",
       "      <td>James Bannon (Irish politician)</td>\n",
       "      <td>\\n\\nJames Bannon (born 6 March 1958) is a form...</td>\n",
       "      <td>he served as a teachta Dála (TD) for the Longf...</td>\n",
       "    </tr>\n",
       "    <tr>\n",
       "      <th>1</th>\n",
       "      <td>Asota chionea</td>\n",
       "      <td>\\nAsota chionea is a moth of the family Erebid...</td>\n",
       "      <td>asota chionea is a moth of the family Erebidae...</td>\n",
       "    </tr>\n",
       "    <tr>\n",
       "      <th>2</th>\n",
       "      <td>Chesley, Aube</td>\n",
       "      <td>Chesley (French pronunciation: ​[ʃɛlɛ]) is a c...</td>\n",
       "      <td>a commune in the aube department in north-cent...</td>\n",
       "    </tr>\n",
       "  </tbody>\n",
       "</table>\n",
       "</div>"
      ],
      "text/plain": [
       "                             title  \\\n",
       "0  James Bannon (Irish politician)   \n",
       "1                    Asota chionea   \n",
       "2                    Chesley, Aube   \n",
       "\n",
       "                                             article  \\\n",
       "0  \\n\\nJames Bannon (born 6 March 1958) is a form...   \n",
       "1  \\nAsota chionea is a moth of the family Erebid...   \n",
       "2  Chesley (French pronunciation: ​[ʃɛlɛ]) is a c...   \n",
       "\n",
       "                                        summary_text  \n",
       "0  he served as a teachta Dála (TD) for the Longf...  \n",
       "1  asota chionea is a moth of the family Erebidae...  \n",
       "2  a commune in the aube department in north-cent...  "
      ]
     },
     "execution_count": 5,
     "metadata": {},
     "output_type": "execute_result"
    }
   ],
   "source": [
    "main_table"
   ]
  },
  {
   "cell_type": "code",
   "execution_count": 6,
   "metadata": {},
   "outputs": [],
   "source": [
    "main_table.to_csv('final.csv',index=False)"
   ]
  },
  {
   "cell_type": "code",
   "execution_count": 7,
   "metadata": {},
   "outputs": [],
   "source": [
    "sum_txt = main_table.drop(['title','article'], axis=1)"
   ]
  },
  {
   "cell_type": "code",
   "execution_count": 8,
   "metadata": {},
   "outputs": [
    {
     "data": {
      "text/html": [
       "<div>\n",
       "<style scoped>\n",
       "    .dataframe tbody tr th:only-of-type {\n",
       "        vertical-align: middle;\n",
       "    }\n",
       "\n",
       "    .dataframe tbody tr th {\n",
       "        vertical-align: top;\n",
       "    }\n",
       "\n",
       "    .dataframe thead th {\n",
       "        text-align: right;\n",
       "    }\n",
       "</style>\n",
       "<table border=\"1\" class=\"dataframe\">\n",
       "  <thead>\n",
       "    <tr style=\"text-align: right;\">\n",
       "      <th></th>\n",
       "      <th>summary_text</th>\n",
       "    </tr>\n",
       "  </thead>\n",
       "  <tbody>\n",
       "    <tr>\n",
       "      <th>0</th>\n",
       "      <td>he served as a teachta Dála (TD) for the Longf...</td>\n",
       "    </tr>\n",
       "    <tr>\n",
       "      <th>1</th>\n",
       "      <td>asota chionea is a moth of the family Erebidae...</td>\n",
       "    </tr>\n",
       "    <tr>\n",
       "      <th>2</th>\n",
       "      <td>a commune in the aube department in north-cent...</td>\n",
       "    </tr>\n",
       "  </tbody>\n",
       "</table>\n",
       "</div>"
      ],
      "text/plain": [
       "                                        summary_text\n",
       "0  he served as a teachta Dála (TD) for the Longf...\n",
       "1  asota chionea is a moth of the family Erebidae...\n",
       "2  a commune in the aube department in north-cent..."
      ]
     },
     "execution_count": 8,
     "metadata": {},
     "output_type": "execute_result"
    }
   ],
   "source": [
    "sum_txt"
   ]
  },
  {
   "cell_type": "code",
   "execution_count": 13,
   "metadata": {},
   "outputs": [],
   "source": [
    "sum_txt.to_csv(r'C:\\Users\\ktmat\\Downloads\\sum_txt.txt', header=None, index=None, sep=' ', mode='a')"
   ]
  },
  {
   "cell_type": "markdown",
   "metadata": {},
   "source": [
    "## Cleaning Process "
   ]
  },
  {
   "cell_type": "code",
   "execution_count": 14,
   "metadata": {},
   "outputs": [
    {
     "name": "stdout",
     "output_type": "stream",
     "text": [
      "showing info https://raw.githubusercontent.com/nltk/nltk_data/gh-pages/index.xml\n"
     ]
    },
    {
     "data": {
      "text/plain": [
       "True"
      ]
     },
     "execution_count": 14,
     "metadata": {},
     "output_type": "execute_result"
    }
   ],
   "source": [
    "import nltk\n",
    "nltk.download()"
   ]
  },
  {
   "cell_type": "code",
   "execution_count": 21,
   "metadata": {},
   "outputs": [
    {
     "name": "stdout",
     "output_type": "stream",
     "text": [
      "['served', 'teachta', 'td', 'westmeath', 'constituency', 'senator', 'industrial', 'commercial', 'panel', 'elected', 'seanad', 'fine', 'gael', 'candidate', 'industrial', 'commercial', 'panel', 'asota', 'chionea', 'moth', 'family', 'erebidae', 'first', 'described', 'paul', 'mabille', 'commune', 'aube', 'department', 'northcentral', 'france', 'stub', 'help', 'wikipedia', 'expanding']\n"
     ]
    }
   ],
   "source": [
    "filename = 'sum_txt.txt'\n",
    "file = open(filename, 'rt')\n",
    "text = file.read()\n",
    "file.close()\n",
    "# split into words\n",
    "from nltk.tokenize import word_tokenize\n",
    "tokens = word_tokenize(text)\n",
    "# convert to lower case\n",
    "tokens = [w.lower() for w in tokens]\n",
    "# remove punctuation from each word\n",
    "import string\n",
    "table = str.maketrans('', '', string.punctuation)\n",
    "stripped = [w.translate(table) for w in tokens]\n",
    "# remove remaining tokens that are not alphabetic\n",
    "words = [word for word in stripped if word.isalpha()]\n",
    "# filter out stop words\n",
    "from nltk.corpus import stopwords\n",
    "stop_words = set(stopwords.words('english'))\n",
    "words = [w for w in words if not w in stop_words]\n",
    "print(words[:100])"
   ]
  },
  {
   "cell_type": "code",
   "execution_count": 22,
   "metadata": {},
   "outputs": [
    {
     "data": {
      "text/plain": [
       "['served',\n",
       " 'teachta',\n",
       " 'td',\n",
       " 'westmeath',\n",
       " 'constituency',\n",
       " 'senator',\n",
       " 'industrial',\n",
       " 'commercial',\n",
       " 'panel',\n",
       " 'elected',\n",
       " 'seanad',\n",
       " 'fine',\n",
       " 'gael',\n",
       " 'candidate',\n",
       " 'industrial',\n",
       " 'commercial',\n",
       " 'panel',\n",
       " 'asota',\n",
       " 'chionea',\n",
       " 'moth',\n",
       " 'family',\n",
       " 'erebidae',\n",
       " 'first',\n",
       " 'described',\n",
       " 'paul',\n",
       " 'mabille',\n",
       " 'commune',\n",
       " 'aube',\n",
       " 'department',\n",
       " 'northcentral',\n",
       " 'france',\n",
       " 'stub',\n",
       " 'help',\n",
       " 'wikipedia',\n",
       " 'expanding']"
      ]
     },
     "execution_count": 22,
     "metadata": {},
     "output_type": "execute_result"
    }
   ],
   "source": [
    "words"
   ]
  },
  {
   "cell_type": "code",
   "execution_count": null,
   "metadata": {},
   "outputs": [],
   "source": []
  }
 ],
 "metadata": {
  "kernelspec": {
   "display_name": "Python 3",
   "language": "python",
   "name": "python3"
  },
  "language_info": {
   "codemirror_mode": {
    "name": "ipython",
    "version": 3
   },
   "file_extension": ".py",
   "mimetype": "text/x-python",
   "name": "python",
   "nbconvert_exporter": "python",
   "pygments_lexer": "ipython3",
   "version": "3.8.8"
  }
 },
 "nbformat": 4,
 "nbformat_minor": 4
}
